{
  "nbformat": 4,
  "nbformat_minor": 0,
  "metadata": {
    "colab": {
      "provenance": [],
      "authorship_tag": "ABX9TyMtZMhTSQr1WQ4z53WEfoP6",
      "include_colab_link": true
    },
    "kernelspec": {
      "name": "python3",
      "display_name": "Python 3"
    },
    "language_info": {
      "name": "python"
    }
  },
  "cells": [
    {
      "cell_type": "markdown",
      "metadata": {
        "id": "view-in-github",
        "colab_type": "text"
      },
      "source": [
        "<a href=\"https://colab.research.google.com/github/abhalla30/Marks-Adding-Ques/blob/main/Marks_Adding.ipynb\" target=\"_parent\"><img src=\"https://colab.research.google.com/assets/colab-badge.svg\" alt=\"Open In Colab\"/></a>"
      ]
    },
    {
      "cell_type": "code",
      "execution_count": 2,
      "metadata": {
        "colab": {
          "base_uri": "https://localhost:8080/"
        },
        "id": "YGGKY9tB-wmX",
        "outputId": "af7aeb5b-86be-4378-dca8-e55b3ca9ab14"
      },
      "outputs": [
        {
          "output_type": "stream",
          "name": "stdout",
          "text": [
            "Total marks written to total_marks.txt\n"
          ]
        }
      ],
      "source": [
        "import pandas as pd\n",
        "\n",
        "# Read the CSV file\n",
        "df = pd.read_csv(\"input/Mini Project - Marks Adding.csv\")\n",
        "\n",
        "# Calculate the sum of the 'Marks' column\n",
        "total = df['Marks'].sum()\n",
        "\n",
        "# Write the total to an output file\n",
        "with open(\"total_marks.txt\", \"w\") as f:\n",
        "    f.write(f\"Total Marks: {total}\\n\")\n",
        "\n",
        "print(\"Total marks written to total_marks.txt\")"
      ]
    }
  ]
}